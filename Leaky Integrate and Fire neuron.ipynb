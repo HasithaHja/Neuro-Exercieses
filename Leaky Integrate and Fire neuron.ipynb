{
 "cells": [
  {
   "cell_type": "code",
   "execution_count": 1,
   "id": "9029bf6b",
   "metadata": {},
   "outputs": [],
   "source": [
    "import numpy as np\n",
    "import matplotlib.pyplot as plt\n"
   ]
  },
  {
   "cell_type": "code",
   "execution_count": 2,
   "id": "df54d462",
   "metadata": {},
   "outputs": [
    {
     "data": {
      "image/png": "[encoded data removed]",
      "text/plain": [
       "<Figure size 800x400 with 1 Axes>"
      ]
     },
     "metadata": {},
     "output_type": "display_data"
    }
   ],
   "source": [
    "## PLOTTING THE EQUATION\n",
    "A = 5\n",
    "tau = 0.2\n",
    "t = np.linspace(0, 10, 1000)\n",
    "\n",
    "## Exponential decay function\n",
    "V = A * np.exp(-t / tau)\n",
    "\n",
    "# Plotting\n",
    "plt.figure(figsize=(8, 4))\n",
    "plt.plot(t, V, label=r'$V(t) = A e^{-t/\\tau}$', color='blue')\n",
    "plt.title('Exponential Decay')\n",
    "plt.xlabel('Time (t)')\n",
    "plt.ylabel('V(t)')\n",
    "plt.grid(True)\n",
    "plt.legend()\n",
    "plt.show()"
   ]
  },
  {
   "cell_type": "markdown",
   "id": "3bcf40c6",
   "metadata": {},
   "source": [
    "If the neuron receives an incoming spike with synaptic weight  $w$,  \n",
    "the membrane potential increases like this:  \n",
    "$$V \\leftarrow V + w$$\n"
   ]
  },
  {
   "cell_type": "markdown",
   "id": "d1580422",
   "metadata": {},
   "source": [
    "### Simulating a spike"
   ]
  },
  {
   "cell_type": "markdown",
   "id": "abe7c7b6",
   "metadata": {},
   "source": [
    "To simulate a spike, we use this psudo workflow\n",
    "\n",
    "```text \n",
    "for each time in t:\n",
    "    Update V at time t, to V at time t+dt\n",
    "    process any incoming spikes\n",
    "    check if V crossed the threshold\n",
    "    if so:\n",
    "        fire a spike\n",
    "        reset V \n",
    "```\n",
    "\n",
    "The value updating equation as follows,\n",
    "$$V(t + dt) = V(t)e^{-dt/\\tau}$$\n",
    "\n",
    "Let's take $\\alpha = e^{-dt/\\tau}$, which doesn't depends on the time $t$ or membrane potential $V$. Then, \n",
    "$$V(t + dt) = \\alpha V(t)$$\n"
   ]
  },
  {
   "cell_type": "code",
   "execution_count": 3,
   "id": "a709ed99",
   "metadata": {},
   "outputs": [],
   "source": [
    "try:\n",
    "    import ipywidgets as widgets\n",
    "except:\n",
    "    widgets = None\n",
    "\n",
    "import numpy as np\n",
    "import matplotlib.pyplot as plt\n",
    "from IPython.display import display\n"
   ]
  },
  {
   "cell_type": "code",
   "execution_count": 4,
   "id": "6aec02e9",
   "metadata": {},
   "outputs": [],
   "source": [
    "fig = plt.figure(figsize=(5, 4))\n",
    "ax = plt.subplot(111)\n",
    "plt.close(fig)\n",
    "\n",
    "'''\n",
    "Function that runs the simulation of the leaky integrate-and-fire neuron model.\n",
    "The neuron integrates the input current and fires a spike when the membrane potential exceeds a threshold.\n",
    "tau: time constant for the membrane potential decay\n",
    "t0, t1, t2: time of three input spikes\n",
    "w: input synapse weight\n",
    "threshold: threshold for firing a spike\n",
    "reset: reset value for the membrane potential after firing a spike\n",
    "'''\n",
    "\n",
    "def LIF(tau=10, t0=20, t1=40, t2=60, w=0.1, threshold=1.0, reset=0.0):\n",
    "    # Spike times, keep sorted because it's more efficient to pop the last value off the list\n",
    "    times = [t0, t1, t2]\n",
    "    times.sort(reverse=True)\n",
    "\n",
    "    # Default parameters\n",
    "    duration = 100  # total duration of the simulation\n",
    "    dt = 0.1  # time step\n",
    "    alpha = np.exp(-dt / tau)  # decay factor for the membrane potential\n",
    "    V_rec = []  # record of membrane potential\n",
    "    V = 0.0  # initial membrane potential\n",
    "    T = np.arange(np.round(duration / dt)) * dt  # time vector\n",
    "    spikes = [] # record of spike times\n",
    "\n",
    "    # Run the simulation\n",
    "    for t in T:\n",
    "        V_rec.append(V)  # record the membrane potential\n",
    "        V *= alpha  # update the membrane potential\n",
    "        if times and t >= times[-1]:\n",
    "            V += w\n",
    "            times.pop()  # remove the last spike time\n",
    "        V_rec.append(V) # Record the V befor reset so we can see the spike\n",
    "        if V >= threshold:\n",
    "            V = reset  # reset the membrane potential\n",
    "            spikes.append(t)  # record the spike time\n",
    "\n",
    "    # Plot the results\n",
    "    ax.clear()\n",
    "    for t in times:\n",
    "        ax.axvline(t, ls=':', c='b')\n",
    "    ax.plot(np.repeat(T, 2), V_rec, '-k', lw=2)\n",
    "    for t in spikes:\n",
    "        ax.axvline(t, ls='--', c='r')\n",
    "    ax.axhline(threshold, ls='--', c='g', label='Threshold')\n",
    "    ax.set_xlim(0, duration)\n",
    "    ax.set_ylim(-1, 2)\n",
    "    ax.set_xlabel('Time (ms)')\n",
    "    ax.set_ylabel('Membrane Potential (V)')\n",
    "    plt.tight_layout()\n",
    "    display(fig)"
   ]
  },
  {
   "cell_type": "code",
   "execution_count": 5,
   "id": "ba63fc24",
   "metadata": {},
   "outputs": [
    {
     "data": {
      "application/vnd.jupyter.widget-view+json": {
       "model_id": "a73d19257e504d34b6df4afd59de8a0a",
       "version_major": 2,
       "version_minor": 0
      },
      "text/plain": [
       "interactive(children=(IntSlider(value=50, description='tau', min=1), IntSlider(value=20, description='t0'), In…"
      ]
     },
     "metadata": {},
     "output_type": "display_data"
    },
    {
     "data": {
      "text/plain": [
       "<function __main__.LIF(tau=10, t0=20, t1=40, t2=60, w=0.1, threshold=1.0, reset=0.0)>"
      ]
     },
     "execution_count": 5,
     "metadata": {},
     "output_type": "execute_result"
    }
   ],
   "source": [
    "## Interactive widget\n",
    "widgets.interact(LIF,\n",
    "                 tau=widgets.IntSlider(min=1, max=100, value=50),\n",
    "                 t0=widgets.IntSlider(min=0, max=100, value=20),\n",
    "                 t1=widgets.IntSlider(min=0, max=100, value=40),\n",
    "                 t2=widgets.IntSlider(min=0, max=100, value=60),\n",
    "                 w=widgets.FloatSlider(min=-1, max=2, step=0.05, value=0.5),\n",
    "                 threshold=widgets.FloatSlider(min=0.0, max=2.0, step=0.05, value=1.0),\n",
    "                 reset=widgets.FloatSlider(min=-1.0, max=1.0, step=0.05, value=0.0))"
   ]
  },
  {
   "cell_type": "markdown",
   "id": "aec6497e",
   "metadata": {},
   "source": [
    "In 2D Leaky-Integrate-Fire neurones, thhere is no fixed threshold. Instead, the threshold value increases dynamically, by making the model slightly complicated.\n",
    "The differential equation for $V_t$ then,\n",
    "$$\\tau_t \\frac{dV_t}{dt} = -(V_t - V_t^0)$$\n",
    "\n",
    "After tehe spike happens,\n",
    "$$V_t \\leftarrow V_t + \\delta V_t$$\n",
    "\n",
    "So, now the value updating equation becoms, \n",
    "$$V(t + dt) = V(t)^0 + \\alpha (V(t) - V(t)^0)$$\n",
    "\n",
    "where $\\alpha$ as same as previous.\n"
   ]
  },
  {
   "cell_type": "code",
   "execution_count": 8,
   "id": "7b5f408f",
   "metadata": {},
   "outputs": [],
   "source": [
    "fig = plt.figure(figsize=(5, 4))\n",
    "ax = plt.subplot(111)\n",
    "plt.close(fig)\n",
    "\n",
    "def LIF_2D (tau=10, taut=20, w=0.1, t0=20, t1=40, t2=60, threshold=1.0, dtthreshold=0.5, reset=0.0 ):\n",
    "    # Spike times, keep sorted because it's more efficient to pop the last value off the list\n",
    "    times = [t0, t1, t2]\n",
    "    times.sort(reverse=True)\n",
    "\n",
    "    # Default parameters\n",
    "    duration = 100  # total duration of the simulation\n",
    "    dt = 0.1  # time step\n",
    "    alpha = np.exp(-dt / tau)  # decay factor for the membrane potential\n",
    "    beta = np.exp(-dt / taut)  # decay factor for Vt\n",
    "    V_rec = []  # record of membrane potential\n",
    "    Vt_rec = []  # record of threshold potential\n",
    "    V = 0.0  # initial membrane potential\n",
    "    Vt = threshold  # initial threshold potential\n",
    "    T = np.arange(np.round(duration / dt)) * dt  # time vector\n",
    "    spikes = [] # record of spike times\n",
    "\n",
    "    ax.clear()\n",
    "    for t in times:\n",
    "        ax.axvline(t, ls=':', c='b')\n",
    "    # Run the simulation\n",
    "    for t in T:\n",
    "        V_rec.append(V)  # record the membrane potential\n",
    "        Vt_rec.append(Vt)  # record the threshold potential\n",
    "        V *= alpha  # update the membrane potential\n",
    "        Vt = (Vt - threshold) * beta + threshold # update the membrane potential\n",
    "        if times and t >= times[-1]:\n",
    "            V += w\n",
    "            times.pop()  # remove the last spike time\n",
    "        V_rec.append(V) # Record the V befor reset so we can see the spike\n",
    "        Vt_rec.append(Vt)  # Record the Vt before reset\n",
    "        if V >Vt:\n",
    "            V = reset  # reset the membrane potential\n",
    "            Vt += dtthreshold  # update the threshold potential\n",
    "            spikes.append(t)  # record the spike time\n",
    "\n",
    "    # Plot the results\n",
    "    ax.plot(np.repeat(T, 2), V_rec, '-k', lw=2)\n",
    "    ax.plot(np.repeat(T, 2), Vt_rec, '--g', lw=2)\n",
    "    for t in spikes:\n",
    "        ax.axvline(t, ls='--', c='r')\n",
    "    # ax.axhline(threshold, ls='--', c='g', label='Threshold')\n",
    "    ax.set_xlim(0, duration)\n",
    "    ax.set_ylim(-1, 2)\n",
    "    ax.set_xlabel('Time (ms)')\n",
    "    ax.set_ylabel('Membrane Potential (V)')\n",
    "    plt.tight_layout()\n",
    "    display(fig)"
   ]
  },
  {
   "cell_type": "code",
   "execution_count": 9,
   "id": "924d9159",
   "metadata": {},
   "outputs": [
    {
     "data": {
      "application/vnd.jupyter.widget-view+json": {
       "model_id": "4b0e8855a25a4c4190c14446e8f97eda",
       "version_major": 2,
       "version_minor": 0
      },
      "text/plain": [
       "interactive(children=(IntSlider(value=50, description='tau', min=5, step=5), IntSlider(value=100, description=…"
      ]
     },
     "metadata": {},
     "output_type": "display_data"
    },
    {
     "data": {
      "text/plain": [
       "<function __main__.LIF_2D(tau=10, taut=20, w=0.1, t0=20, t1=40, t2=60, threshold=1.0, dtthreshold=0.5, reset=0.0)>"
      ]
     },
     "execution_count": 9,
     "metadata": {},
     "output_type": "execute_result"
    }
   ],
   "source": [
    "widgets.interact(LIF_2D,\n",
    "    tau=widgets.IntSlider(min=5, max=100, value=50, step=5),\n",
    "    taut=widgets.IntSlider(min=5, max=100, value=100, step=5),\n",
    "    t0=widgets.IntSlider(min=0, max=100, value=20),\n",
    "    t1=widgets.IntSlider(min=0, max=100, value=40),\n",
    "    t2=widgets.IntSlider(min=0, max=100, value=60),\n",
    "    w=widgets.FloatSlider(min=-1, max=2, step=0.05, value=0.5),\n",
    "    threshold=widgets.FloatSlider(min=0.0, max=2.0, step=0.05, value=1.0),\n",
    "    dthreshold=widgets.FloatSlider(min=0.0, max=1.0, step=0.05, value=0.5),\n",
    "    reset=widgets.FloatSlider(min=-1.0, max=1.0, step=0.05, value=0.0))"
   ]
  },
  {
   "cell_type": "code",
   "execution_count": null,
   "id": "00a9ea77",
   "metadata": {},
   "outputs": [],
   "source": []
  }
 ],
 "metadata": {
  "kernelspec": {
   "display_name": "sinhala-audio-detection",
   "language": "python",
   "name": "python3"
  },
  "language_info": {
   "codemirror_mode": {
    "name": "ipython",
    "version": 3
   },
   "file_extension": ".py",
   "mimetype": "text/x-python",
   "name": "python",
   "nbconvert_exporter": "python",
   "pygments_lexer": "ipython3",
   "version": "3.12.11"
  }
 },
 "nbformat": 4,
 "nbformat_minor": 5
}
